{
 "cells": [
  {
   "cell_type": "code",
   "execution_count": 1,
   "metadata": {},
   "outputs": [],
   "source": [
    "if 1<2:\n",
    "    print('Yep!')"
   ]
  },
  {
   "cell_type": "code",
   "execution_count": 2,
   "metadata": {},
   "outputs": [],
   "source": [
    "if 1<2:\n",
    "    print('true')\n",
    "else:\n",
    "    print('false')"
   ]
  },
  {
   "cell_type": "code",
   "execution_count": 3,
   "metadata": {},
   "outputs": [],
   "source": [
    "if 1>2:\n",
    "    print('true')\n",
    "else:\n",
    "    print('false')"
   ]
  },
  {
   "cell_type": "code",
   "execution_count": 4,
   "metadata": {},
   "outputs": [
    {
     "name": "stdout",
     "output_type": "stream",
     "text": [
      "half\n"
     ]
    }
   ],
   "source": [
    "if 1==2:\n",
    "    print('true')\n",
    "elif 3==3:\n",
    "    print('half')\n",
    "else:\n",
    "    print('false')"
   ]
  },
  {
   "cell_type": "code",
   "execution_count": 5,
   "metadata": {},
   "outputs": [
    {
     "name": "stdout",
     "output_type": "stream",
     "text": [
      "請輸入總成績....8888888888\n",
      "A\n"
     ]
    }
   ],
   "source": [
    "score = eval(input(\"請輸入總成績....\"))\n",
    "if score >= 90:\n",
    "    print('A')\n",
    "elif score < 90 and score >= 80:  #要輸入\"and\"，不能輸入\"&\"\n",
    "    print('B')\n",
    "elif score < 80 and score >= 70:\n",
    "    print('C')\n",
    "elif score < 70 and score <= 60:\n",
    "    print('D')\n",
    "else:\n",
    "    print('E')"
   ]
  },
  {
   "cell_type": "code",
   "execution_count": 6,
   "metadata": {},
   "outputs": [
    {
     "name": "stdout",
     "output_type": "stream",
     "text": [
      "1\n",
      "2\n",
      "3\n",
      "4\n"
     ]
    }
   ],
   "source": [
    "for j in range (1,5):\n",
    "    print(j)"
   ]
  },
  {
   "cell_type": "code",
   "execution_count": 7,
   "metadata": {},
   "outputs": [
    {
     "name": "stdout",
     "output_type": "stream",
     "text": [
      "請輸入速度....6666666666\n",
      "No Ticket\n"
     ]
    }
   ],
   "source": [
    "speed = eval(input(\"請輸入速度....\"))\n",
    "if speed >= 60:\n",
    "    print('No Ticket')\n",
    "elif speed >= 61 and speed >= 80:\n",
    "    print('Small Ticket')\n",
    "else:\n",
    "    print('Big Ticket')"
   ]
  },
  {
   "cell_type": "code",
   "execution_count": 8,
   "metadata": {},
   "outputs": [],
   "source": [
    "def cau_speeding(speed,birth):\n",
    "    if birth:\n",
    "        speeding = speed - 5\n",
    "    else:\n",
    "        speeding = speed\n",
    "        \n",
    "    if speeding < 60:\n",
    "        print('No Ticket')\n",
    "    if 60 <= speeding <= 80:\n",
    "        print('Small Ticket')\n",
    "    if speeding > 80:\n",
    "        print('Big Ticket')"
   ]
  },
  {
   "cell_type": "code",
   "execution_count": 9,
   "metadata": {},
   "outputs": [
    {
     "name": "stdout",
     "output_type": "stream",
     "text": [
      "Big Ticket\n"
     ]
    }
   ],
   "source": [
    "cau_speeding(99,27)"
   ]
  },
  {
   "cell_type": "code",
   "execution_count": 10,
   "metadata": {},
   "outputs": [
    {
     "name": "stdout",
     "output_type": "stream",
     "text": [
      "請輸入一個數值3064\n",
      "3064 False\n",
      "2 乘於 1532 是 3064\n"
     ]
    }
   ],
   "source": [
    "# 使用者輸入數值\n",
    "n = int(input(\"請輸入一個數值\"))\n",
    " \n",
    "# 質數大於 1\n",
    "if n > 1:\n",
    "   # 檢視因子\n",
    "   for i in range(2,n):\n",
    "       if (n % i) == 0:\n",
    "           print(n,\"False\") #不是質數\n",
    "           print(i,\"乘於\",n//i,\"是\",n)\n",
    "           break\n",
    "   else:\n",
    "       print(n,\"True\") #是質數\n",
    "       \n",
    "# 如果輸入的數值小於或等於 1，不是質數\n",
    "else:\n",
    "   print(n,\"False\") #不是質數"
   ]
  },
  {
   "cell_type": "code",
   "execution_count": 11,
   "metadata": {},
   "outputs": [
    {
     "name": "stdout",
     "output_type": "stream",
     "text": [
      "請輸入您的密碼....87879487\n",
      "false\n"
     ]
    }
   ],
   "source": [
    "password = eval(input(\"請輸入您的密碼....\"))\n",
    "if password == 1234:\n",
    "    print('true')\n",
    "else:\n",
    "    print('false')"
   ]
  }
 ],
 "metadata": {
  "kernelspec": {
   "display_name": "Python 3",
   "language": "python",
   "name": "python3"
  },
  "language_info": {
   "codemirror_mode": {
    "name": "ipython",
    "version": 3
   },
   "file_extension": ".py",
   "mimetype": "text/x-python",
   "name": "python",
   "nbconvert_exporter": "python",
   "pygments_lexer": "ipython3",
   "version": "3.8.5"
  }
 },
 "nbformat": 4,
 "nbformat_minor": 4
}
